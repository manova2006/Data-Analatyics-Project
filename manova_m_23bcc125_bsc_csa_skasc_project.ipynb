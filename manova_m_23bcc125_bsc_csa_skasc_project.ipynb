{
  "nbformat": 4,
  "nbformat_minor": 0,
  "metadata": {
    "colab": {
      "private_outputs": true,
      "provenance": []
    },
    "kernelspec": {
      "name": "python3",
      "display_name": "Python 3"
    },
    "language_info": {
      "name": "python"
    }
  },
  "cells": [
    {
      "cell_type": "code",
      "source": [
        "!pip install requests beautifulsoup4 pandas\n",
        "\n"
      ],
      "metadata": {
        "id": "saz5wNQoTlkl"
      },
      "execution_count": null,
      "outputs": []
    },
    {
      "cell_type": "code",
      "source": [
        "from google.colab import files\n",
        "uploaded = files.upload()"
      ],
      "metadata": {
        "id": "JeuuEoZ-6C-5"
      },
      "execution_count": null,
      "outputs": []
    },
    {
      "cell_type": "code",
      "source": [
        "import pandas as pd\n",
        "df = pd.read_csv('netflix and tv shows dataset.csv')\n",
        "df.head()"
      ],
      "metadata": {
        "id": "JSXBksh26i_u"
      },
      "execution_count": null,
      "outputs": []
    },
    {
      "cell_type": "code",
      "source": [
        "print (df.info)"
      ],
      "metadata": {
        "id": "iwFvTLp57DL5"
      },
      "execution_count": null,
      "outputs": []
    },
    {
      "cell_type": "code",
      "source": [
        "print(df.iloc[0])"
      ],
      "metadata": {
        "id": "9OgYflOd7P-9"
      },
      "execution_count": null,
      "outputs": []
    },
    {
      "cell_type": "code",
      "source": [
        "print (df[0:3])"
      ],
      "metadata": {
        "id": "PHblNlLg7dSP"
      },
      "execution_count": null,
      "outputs": []
    },
    {
      "cell_type": "code",
      "source": [
        "import pandas as pd\n",
        "\n",
        "#load the duplicate file\n",
        "file_name = 'netflix and tv shows dataset.csv'\n",
        "df = pd.read_csv(file_name)\n",
        "\n",
        "#display the  frist  few row\n",
        "print(\"preview of the duplicate dataset\")\n",
        "df.head()\n"
      ],
      "metadata": {
        "id": "xRC9nh7j7lW4"
      },
      "execution_count": null,
      "outputs": []
    },
    {
      "cell_type": "code",
      "source": [
        "import pandas as pd\n",
        "\n",
        "# Load the dataset\n",
        "file_name = \"netflix and tv shows dataset.csv\"\n",
        "df = pd.read_csv (file_name)\n",
        "\n",
        "# Preview the data\n",
        "print(df.head())\n",
        "print(df.info())\n",
        "print(df.describe())\n"
      ],
      "metadata": {
        "id": "nYW-9z9Z8r46"
      },
      "execution_count": null,
      "outputs": []
    },
    {
      "cell_type": "code",
      "source": [
        "# Check for missing values\n",
        "print(\"Missing values in each column:\")\n",
        "print(df.isnull().sum())\n",
        "\n",
        "# Get the actual column names from the DataFrame\n",
        "actual_columns = df.columns\n",
        "\n",
        "# Fill missing values or drop rows/columns\n",
        "# Check if 'Rating' and 'Company' are in actual columns before filling NaNs\n",
        "if 'Rating' in actual_columns:\n",
        "    df['Rating'] = df['Rating'].fillna(df['Rating'].mean())  # Example for numeric column\n",
        "if 'Company' in actual_columns:\n",
        "    df['Company'] = df['Company'].fillna('Unknown')  # Example for categorical column\n",
        "else:\n",
        "    # If 'Company' is not found, print an error or handle it appropriately\n",
        "    print(\"Column 'Company' not found in the DataFrame.\")\n",
        "    # You might want to check for similar column names or adjust your code accordingly"
      ],
      "metadata": {
        "id": "-ClN25QR95s0"
      },
      "execution_count": null,
      "outputs": []
    },
    {
      "cell_type": "code",
      "source": [
        "# Check for duplicates\n",
        "print(\"Number of duplicate rows:\", df.duplicated().sum())\n",
        "\n",
        "# Drop duplicate rows\n",
        "df = df.drop_duplicates()"
      ],
      "metadata": {
        "id": "X4hHOzO_-E2D"
      },
      "execution_count": null,
      "outputs": []
    },
    {
      "cell_type": "code",
      "source": [
        "import pandas as pd\n",
        "\n",
        "# Sample Netflix TV Shows Data (this would come from your scraped dataset)\n",
        "data = {\n",
        "    \"Title\": [\n",
        "        \"The Crown\", \"Stranger Things\", \"Money Heist\", \"The Witcher\", \"Narcos\",\n",
        "        \"The Queen's Gambit\", \"Ozark\", \"The Umbrella Academy\", \"Breaking Bad\", \"Black Mirror\"\n",
        "    ],\n",
        "    \"Genre\": [\n",
        "        \"Drama\", \"Sci-Fi\", \"Crime\", \"Fantasy\", \"Crime\",\n",
        "        \"Drama\", \"Crime\", \"Sci-Fi\", \"Crime\", \"Sci-Fi\"\n",
        "    ]\n",
        "}\n",
        "\n",
        "# Convert the data into a DataFrame\n",
        "df = pd.DataFrame(data)\n",
        "\n",
        "# Calculate the total number of TV shows by Genre\n",
        "total_tv_shows_by_genre = df.groupby('Genre')['Title'].count()\n",
        "\n",
        "print(\"\\nTotal TV Shows by Genre:\")\n",
        "print(total_tv_shows_by_genre)\n"
      ],
      "metadata": {
        "id": "l0ltnGFqWrkL"
      },
      "execution_count": null,
      "outputs": []
    },
    {
      "cell_type": "code",
      "source": [
        "import matplotlib.pyplot as plt\n",
        "import pandas as pd\n",
        "\n",
        "# Sample Netflix TV Shows Data (this would typically come from your scraped dataset)\n",
        "data = {\n",
        "    \"Title\": [\n",
        "        \"The Crown\", \"Stranger Things\", \"Money Heist\", \"The Witcher\", \"Narcos\",\n",
        "        \"The Queen's Gambit\", \"Ozark\", \"The Umbrella Academy\", \"Breaking Bad\", \"Black Mirror\"\n",
        "    ],\n",
        "    \"Release Year\": [\n",
        "        2016, 2016, 2017, 2019, 2015,\n",
        "        2020, 2017, 2019, 2008, 2011\n",
        "    ]\n",
        "}\n",
        "\n",
        "# Convert the data into a DataFrame\n",
        "df = pd.DataFrame(data)\n",
        "\n",
        "# Group by Release Year and count the number of TV Shows per year\n",
        "tv_show_count = df.groupby('Release Year')['Title'].count()\n",
        "\n",
        "# Plot the total TV shows count over time (by year)\n",
        "plt.figure(figsize=(10, 6))\n",
        "tv_show_count.plot(kind='line', marker='o')\n",
        "plt.title('Number of Netflix TV Shows Released Over Time')\n",
        "plt.xlabel('Year')\n",
        "plt.ylabel('Number of TV Shows')\n",
        "plt.grid(True)\n",
        "plt.xticks(rotation=45)\n",
        "plt.show()\n"
      ],
      "metadata": {
        "id": "5fTWyMncUV75"
      },
      "execution_count": null,
      "outputs": []
    },
    {
      "cell_type": "code",
      "source": [
        "import pandas as pd\n",
        "import seaborn as sns\n",
        "import matplotlib.pyplot as plt\n",
        "\n",
        "# Sample Netflix TV Shows Data (this would come from your scraped dataset)\n",
        "data = {\n",
        "    \"Title\": [\n",
        "        \"The Crown\", \"Stranger Things\", \"Money Heist\", \"The Witcher\", \"Narcos\",\n",
        "        \"The Queen's Gambit\", \"Ozark\", \"The Umbrella Academy\", \"Breaking Bad\", \"Black Mirror\"\n",
        "    ],\n",
        "    \"Genre\": [\n",
        "        \"Drama\", \"Sci-Fi\", \"Crime\", \"Fantasy\", \"Crime\",\n",
        "        \"Drama\", \"Crime\", \"Sci-Fi\", \"Crime\", \"Sci-Fi\"\n",
        "    ],\n",
        "    \"Release Year\": [\n",
        "        2016, 2016, 2017, 2019, 2015,\n",
        "        2020, 2017, 2019, 2008, 2011\n",
        "    ]\n",
        "}\n",
        "\n",
        "# Convert the data into a DataFrame\n",
        "df = pd.DataFrame(data)\n",
        "\n",
        "# Create a pivot table to summarize the number of TV shows by Genre and Release Year\n",
        "pivot_table = df.pivot_table(values='Title', index='Genre', columns='Release Year', aggfunc='count')\n",
        "\n",
        "# Create a heatmap for the pivot table\n",
        "plt.figure(figsize=(10, 6))\n",
        "sns.heatmap(pivot_table, annot=True, cmap=\"YlGnBu\", fmt=\"d\", cbar_kws={'label': 'Number of TV Shows'})\n",
        "plt.title('Netflix TV Shows by Genre and Release Year')\n",
        "plt.xlabel('Release Year')\n",
        "plt.ylabel('Genre')\n",
        "plt.show()\n"
      ],
      "metadata": {
        "id": "Ih7rtEOUWKFZ"
      },
      "execution_count": null,
      "outputs": []
    },
    {
      "cell_type": "code",
      "source": [
        "# Sample Netflix TV Shows Data (this would come from your scraped dataset)\n",
        "data = {\n",
        "    \"Title\": [\n",
        "        \"The Crown\", \"Stranger Things\", \"Money Heist\", \"The Witcher\", \"Narcos\",\n",
        "        \"The Queen's Gambit\", \"Ozark\", \"The Umbrella Academy\", \"Breaking Bad\", \"Black Mirror\"\n",
        "    ],\n",
        "    \"Release Year\": [\n",
        "        2016, 2016, 2017, 2019, 2015,\n",
        "        2020, 2017, 2019, 2008, 2011\n",
        "    ]\n",
        "}\n",
        "\n",
        "# Convert the data into a DataFrame\n",
        "df = pd.DataFrame(data)\n",
        "\n",
        "# Calculate the total number of TV shows by Release Year\n",
        "total_tv_shows_by_year = df.groupby('Release Year')['Title'].count()\n",
        "\n",
        "print(\"\\nTotal TV Shows by Release Year:\")\n",
        "print(total_tv_shows_by_year)\n"
      ],
      "metadata": {
        "id": "IMt_el4vW3nc"
      },
      "execution_count": null,
      "outputs": []
    },
    {
      "cell_type": "code",
      "source": [
        "import pandas as pd\n",
        "import matplotlib.pyplot as plt\n",
        "\n",
        "# Sample Netflix TV Shows Data (this would come from your scraped dataset)\n",
        "data = {\n",
        "    \"Title\": [\n",
        "        \"The Crown\", \"Stranger Things\", \"Money Heist\", \"The Witcher\", \"Narcos\",\n",
        "        \"The Queen's Gambit\", \"Ozark\", \"The Umbrella Academy\", \"Breaking Bad\", \"Black Mirror\"\n",
        "    ],\n",
        "    \"Genre\": [\n",
        "        \"Drama\", \"Sci-Fi\", \"Crime\", \"Fantasy\", \"Crime\",\n",
        "        \"Drama\", \"Crime\", \"Sci-Fi\", \"Crime\", \"Sci-Fi\"\n",
        "    ]\n",
        "}\n",
        "\n",
        "# Convert the data into a DataFrame\n",
        "df = pd.DataFrame(data)\n",
        "\n",
        "# Calculate the total number of TV shows by Genre\n",
        "total_tv_shows_by_genre = df.groupby('Genre')['Title'].count()\n",
        "\n",
        "# Plot the histogram of total TV shows by Genre\n",
        "plt.figure(figsize=(10, 6))\n",
        "total_tv_shows_by_genre.plot(kind='bar', color='skyblue', edgecolor='black')\n",
        "plt.title('Total Number of Netflix TV Shows by Genre')\n",
        "plt.xlabel('Genre')\n",
        "plt.ylabel('Number of TV Shows')\n",
        "plt.xticks(rotation=45)\n",
        "plt.show()\n"
      ],
      "metadata": {
        "id": "5a82rRiPXSNz"
      },
      "execution_count": null,
      "outputs": []
    },
    {
      "cell_type": "code",
      "source": [
        "import pandas as pd\n",
        "import matplotlib.pyplot as plt\n",
        "\n",
        "# Sample Netflix TV Shows Data (this would come from your scraped dataset)\n",
        "data = {\n",
        "    \"Title\": [\n",
        "        \"The Crown\", \"Stranger Things\", \"Money Heist\", \"The Witcher\", \"Narcos\",\n",
        "        \"The Queen's Gambit\", \"Ozark\", \"The Umbrella Academy\", \"Breaking Bad\", \"Black Mirror\"\n",
        "    ],\n",
        "    \"Genre\": [\n",
        "        \"Drama\", \"Sci-Fi\", \"Crime\", \"Fantasy\", \"Crime\",\n",
        "        \"Drama\", \"Crime\", \"Sci-Fi\", \"Crime\", \"Sci-Fi\"\n",
        "    ]\n",
        "}\n",
        "\n",
        "# Convert the data into a DataFrame\n",
        "df = pd.DataFrame(data)\n",
        "\n",
        "# Calculate the total number of TV shows by Genre\n",
        "total_tv_shows_by_genre = df.groupby('Genre')['Title'].count()\n",
        "\n",
        "# Plot the pie chart for total TV shows by Genre\n",
        "plt.figure(figsize=(8, 8))\n",
        "total_tv_shows_by_genre.plot(kind='pie', autopct='%1.1f%%', startangle=90, colors=['skyblue', 'lightgreen', 'salmon', 'lightcoral'])\n",
        "plt.title('Distribution of Netflix TV Shows by Genre')\n",
        "plt.ylabel('')  # Hide the y-label\n",
        "plt.show()\n"
      ],
      "metadata": {
        "id": "oAJfplmpZ9Fq"
      },
      "execution_count": null,
      "outputs": []
    },
    {
      "cell_type": "code",
      "source": [
        "import pandas as pd\n",
        "import matplotlib.pyplot as plt\n",
        "\n",
        "# Sample Netflix TV Shows Data (this would come from your scraped dataset)\n",
        "data = {\n",
        "    \"Title\": [\n",
        "        \"The Crown\", \"Stranger Things\", \"Money Heist\", \"The Witcher\", \"Narcos\",\n",
        "        \"The Queen's Gambit\", \"Ozark\", \"The Umbrella Academy\", \"Breaking Bad\", \"Black Mirror\"\n",
        "    ],\n",
        "    \"Genre\": [\n",
        "        \"Drama\", \"Sci-Fi\", \"Crime\", \"Fantasy\", \"Crime\",\n",
        "        \"Drama\", \"Crime\", \"Sci-Fi\", \"Crime\", \"Sci-Fi\"\n",
        "    ],\n",
        "    \"Release Year\": [\n",
        "        2016, 2016, 2017, 2019, 2015,\n",
        "        2020, 2017, 2019, 2008, 2011\n",
        "    ]\n",
        "}\n",
        "\n",
        "# Convert the data into a DataFrame\n",
        "df = pd.DataFrame(data)\n",
        "\n",
        "# Count the number of TV shows per Genre and Release Year\n",
        "tv_show_counts = df.groupby(['Release Year', 'Genre']).size().reset_index(name='Count')\n",
        "\n",
        "# Plot the scatter plot\n",
        "plt.figure(figsize=(10, 6))\n",
        "for genre in tv_show_counts['Genre'].unique():\n",
        "    genre_data = tv_show_counts[tv_show_counts['Genre'] == genre]\n",
        "    plt.scatter(genre_data['Release Year'], genre_data['Count'], label=genre, alpha=0.7)\n",
        "\n",
        "# Customizing the plot\n",
        "plt.title('Scatter Plot of Netflix TV Shows by Release Year and Genre')\n",
        "plt.xlabel('Release Year')\n",
        "plt.ylabel('Number of TV Shows')\n",
        "plt.legend(title='Genre', bbox_to_anchor=(1.05, 1), loc='upper left')\n",
        "plt.grid(True)\n",
        "plt.show()\n"
      ],
      "metadata": {
        "id": "fR6P66TvbaJE"
      },
      "execution_count": null,
      "outputs": []
    }
  ]
}